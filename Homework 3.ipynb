{
 "cells": [
  {
   "cell_type": "code",
   "execution_count": 1,
   "id": "f8c3cd01",
   "metadata": {},
   "outputs": [],
   "source": [
    "# question 0\n",
    "\n",
    "marks = {'Andy': 88, 'Amy': 66, 'James': 90, 'Jules': 55, 'Arthur': 77}"
   ]
  },
  {
   "cell_type": "code",
   "execution_count": 2,
   "id": "c38ef716",
   "metadata": {},
   "outputs": [
    {
     "name": "stdout",
     "output_type": "stream",
     "text": [
      "Andy has a grade of 88\n",
      "Amy has a grade of 66\n",
      "James has a grade of 90\n",
      "Jules has a grade of 55\n",
      "Arthur has a grade of 77\n"
     ]
    }
   ],
   "source": [
    "# question 1\n",
    "for name, grade in marks.items():\n",
    "    print(name, \"has a grade of\", grade)"
   ]
  },
  {
   "cell_type": "code",
   "execution_count": 11,
   "id": "33aac496",
   "metadata": {},
   "outputs": [
    {
     "name": "stdout",
     "output_type": "stream",
     "text": [
      "The average grade in the class is 75.2\n",
      "The maximum grade in the class is a 90\n",
      "The minimum grade in the class is a 55\n"
     ]
    }
   ],
   "source": [
    "# question 2\n",
    "\n",
    "# average\n",
    "avg = sum(marks.values())/len(marks)\n",
    "print('The average grade in the class is', avg)\n",
    "\n",
    "# max\n",
    "all_grades = marks.values()\n",
    "max_grade = max(all_grades)\n",
    "print(\"The maximum grade in the class is a\", max_grade)\n",
    "\n",
    "# min\n",
    "min_grade = min(all_grades)\n",
    "print(\"The minimum grade in the class is a\", min_grade)"
   ]
  },
  {
   "cell_type": "code",
   "execution_count": 3,
   "id": "b2c6933c",
   "metadata": {},
   "outputs": [
    {
     "name": "stdout",
     "output_type": "stream",
     "text": [
      "Andy\n",
      "Amy\n"
     ]
    }
   ],
   "source": [
    "# question 3\n",
    "\n",
    "for k, v in marks.items():\n",
    "    if 'J' in k:\n",
    "        break\n",
    "    else: \n",
    "        print(k)"
   ]
  },
  {
   "cell_type": "code",
   "execution_count": 4,
   "id": "dbea345e",
   "metadata": {},
   "outputs": [
    {
     "name": "stdout",
     "output_type": "stream",
     "text": [
      "Andy\n",
      "Amy\n",
      "Arthur\n"
     ]
    }
   ],
   "source": [
    "# question 4\n",
    "\n",
    "for k, v in marks.items():\n",
    "    if 'J' in k:\n",
    "        continue\n",
    "    else: \n",
    "        print(k)"
   ]
  },
  {
   "cell_type": "code",
   "execution_count": 16,
   "id": "50fd2828",
   "metadata": {},
   "outputs": [
    {
     "name": "stdout",
     "output_type": "stream",
     "text": [
      "Arthur currently has a grade of 77\n"
     ]
    }
   ],
   "source": [
    "# question 5\n",
    "\n",
    "def grade_check(name):\n",
    "    for k, v in marks.items():\n",
    "        if k == name:\n",
    "            print(k, \"currently has a grade of\", v)\n",
    "            break\n",
    "    else: \n",
    "        print('This student\\'s name could not be found.')\n",
    "\n",
    "grade_check(\"Arthur\")"
   ]
  },
  {
   "cell_type": "code",
   "execution_count": 17,
   "id": "b8522eaf",
   "metadata": {},
   "outputs": [
    {
     "name": "stdout",
     "output_type": "stream",
     "text": [
      "0\n",
      "1\n",
      "2\n",
      "3\n",
      "4\n"
     ]
    }
   ],
   "source": [
    "# question between 5 and 6\n",
    "\n",
    "def less_than(num):\n",
    "    for n in range(num):\n",
    "        print(n)\n",
    "\n",
    "less_than(5)"
   ]
  },
  {
   "cell_type": "code",
   "execution_count": 1,
   "id": "1d81531d",
   "metadata": {},
   "outputs": [
    {
     "name": "stdout",
     "output_type": "stream",
     "text": [
      "0\n",
      "1\n",
      "2\n",
      "3\n",
      "4\n",
      "5\n",
      "6\n",
      "7\n",
      "8 is not greater than 8\n"
     ]
    }
   ],
   "source": [
    "# question 6\n",
    "\n",
    "def less_than_while(num):\n",
    "    n = 0\n",
    "    while n < num:\n",
    "        print(n)\n",
    "        #power of n? \n",
    "        n += 1\n",
    "    else: \n",
    "        print(n, 'is not greater than', num)\n",
    "\n",
    "less_than_while(8)"
   ]
  },
  {
   "cell_type": "code",
   "execution_count": 25,
   "id": "55b954ea",
   "metadata": {},
   "outputs": [
    {
     "name": "stdout",
     "output_type": "stream",
     "text": [
      "465\n"
     ]
    }
   ],
   "source": [
    "# question 7\n",
    "\n",
    "def find_sum(num):\n",
    "    n = 0\n",
    "    sum = 0\n",
    "    while n <= num:\n",
    "        sum += n\n",
    "        n += 1\n",
    "    else:\n",
    "        print(sum)\n",
    "        \n",
    "find_sum(30)"
   ]
  },
  {
   "cell_type": "code",
   "execution_count": 30,
   "id": "0baeea60",
   "metadata": {},
   "outputs": [
    {
     "name": "stdout",
     "output_type": "stream",
     "text": [
      "1\n",
      "3\n",
      "6\n",
      "10\n",
      "15\n",
      "21\n",
      "28\n",
      "36\n",
      "45\n",
      "55\n",
      "66\n",
      "78\n",
      "91\n",
      "105\n",
      "120\n",
      "136\n",
      "153\n",
      "171\n",
      "190\n",
      "210\n",
      "231\n",
      "253\n",
      "276\n",
      "300\n",
      "325\n",
      "351\n",
      "378\n",
      "406\n",
      "435\n",
      "465\n"
     ]
    }
   ],
   "source": [
    "# question 9\n",
    "\n",
    "def find_sum_for(num):\n",
    "    n = 1\n",
    "    sum = 0\n",
    "    for i in range(num):\n",
    "        sum += n\n",
    "        n += 1\n",
    "        print(sum)\n",
    "\n",
    "find_sum_for(30)"
   ]
  },
  {
   "cell_type": "code",
   "execution_count": 39,
   "id": "9b54b6f2",
   "metadata": {},
   "outputs": [
    {
     "name": "stdout",
     "output_type": "stream",
     "text": [
      "1\n"
     ]
    }
   ],
   "source": [
    "# question 10\n",
    "\n",
    "def minimal(v1, v2, v3, v4):\n",
    "    if v1 <= v2 and v1 <= v3 and v1 <= v4:\n",
    "        print(v1)\n",
    "    elif v2 <= v1 and v2 <= v3 and v2 <= v4:\n",
    "        print(v2)\n",
    "    elif v3 <= v1 and v3 <= v2 and v3 <= v4:\n",
    "        print(v3)\n",
    "    elif v4 <= v1 and v4 <= v2 and v4 <= v3:\n",
    "        print(v4)\n",
    "\n",
    "minimal(3, 1, 1, 1)"
   ]
  },
  {
   "cell_type": "code",
   "execution_count": null,
   "id": "f285fe95",
   "metadata": {},
   "outputs": [],
   "source": []
  }
 ],
 "metadata": {
  "kernelspec": {
   "display_name": "Python 3",
   "language": "python",
   "name": "python3"
  },
  "language_info": {
   "codemirror_mode": {
    "name": "ipython",
    "version": 3
   },
   "file_extension": ".py",
   "mimetype": "text/x-python",
   "name": "python",
   "nbconvert_exporter": "python",
   "pygments_lexer": "ipython3",
   "version": "3.8.8"
  }
 },
 "nbformat": 4,
 "nbformat_minor": 5
}
